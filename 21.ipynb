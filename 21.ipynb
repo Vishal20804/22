{
 "cells": [
  {
   "cell_type": "code",
   "execution_count": 2,
   "id": "e52c1cba-484f-40d2-8dfa-637691fef353",
   "metadata": {},
   "outputs": [],
   "source": [
    "#ans:1\n",
    "import pandas as pd\n",
    "course_name = ['Data Science', 'Machine Learning', 'Big Data', 'Data Enginee']\n",
    "duration = [2,3,6,4]\n",
    "df = pd.DataFrame(data = {'course_name' : course_name, 'duration' : duration})"
   ]
  },
  {
   "cell_type": "code",
   "execution_count": 4,
   "id": "4c9eab40-fbdb-43c9-b15e-2d3f2928b4b0",
   "metadata": {},
   "outputs": [
    {
     "data": {
      "text/html": [
       "<div>\n",
       "<style scoped>\n",
       "    .dataframe tbody tr th:only-of-type {\n",
       "        vertical-align: middle;\n",
       "    }\n",
       "\n",
       "    .dataframe tbody tr th {\n",
       "        vertical-align: top;\n",
       "    }\n",
       "\n",
       "    .dataframe thead th {\n",
       "        text-align: right;\n",
       "    }\n",
       "</style>\n",
       "<table border=\"1\" class=\"dataframe\">\n",
       "  <thead>\n",
       "    <tr style=\"text-align: right;\">\n",
       "      <th></th>\n",
       "      <th>course_name</th>\n",
       "      <th>duration</th>\n",
       "    </tr>\n",
       "  </thead>\n",
       "  <tbody>\n",
       "    <tr>\n",
       "      <th>0</th>\n",
       "      <td>Data Science</td>\n",
       "      <td>2</td>\n",
       "    </tr>\n",
       "    <tr>\n",
       "      <th>1</th>\n",
       "      <td>Machine Learning</td>\n",
       "      <td>3</td>\n",
       "    </tr>\n",
       "    <tr>\n",
       "      <th>2</th>\n",
       "      <td>Big Data</td>\n",
       "      <td>6</td>\n",
       "    </tr>\n",
       "    <tr>\n",
       "      <th>3</th>\n",
       "      <td>Data Enginee</td>\n",
       "      <td>4</td>\n",
       "    </tr>\n",
       "  </tbody>\n",
       "</table>\n",
       "</div>"
      ],
      "text/plain": [
       "        course_name  duration\n",
       "0      Data Science         2\n",
       "1  Machine Learning         3\n",
       "2          Big Data         6\n",
       "3      Data Enginee         4"
      ]
     },
     "execution_count": 4,
     "metadata": {},
     "output_type": "execute_result"
    }
   ],
   "source": [
    "df"
   ]
  },
  {
   "cell_type": "code",
   "execution_count": 6,
   "id": "571af402-dade-43e0-9c3e-9d566bd4b4cd",
   "metadata": {},
   "outputs": [
    {
     "data": {
      "text/plain": [
       "course_name    Machine Learning\n",
       "duration                      3\n",
       "Name: 1, dtype: object"
      ]
     },
     "execution_count": 6,
     "metadata": {},
     "output_type": "execute_result"
    }
   ],
   "source": [
    "df.iloc[1]"
   ]
  },
  {
   "cell_type": "code",
   "execution_count": null,
   "id": "9c782218-8f73-4fab-b06a-aadc5f1868ae",
   "metadata": {},
   "outputs": [],
   "source": [
    "#ans:2\n",
    "loc is used to select data by label/index. It takes two arguments: the row label(s) and the column label(s). For example, df.loc[2, 'col1'] selects the value in row 2 and column 'col1'.\n",
    "\n",
    "iloc is used to select data by integer position. It also takes two arguments: the row integer(s) and the column integer(s). For example, df.iloc[2, 0] selects the value in the third row and the first column (remember that Python is 0-indexed).\n",
    "\n",
    "In summary, loc is used to select data by label and iloc is used to select data by integer position. "
   ]
  },
  {
   "cell_type": "code",
   "execution_count": null,
   "id": "cd6da19c-0fef-4ed8-ae3c-720788c5258c",
   "metadata": {},
   "outputs": [],
   "source": [
    "#ans:3\n",
    "import pandas as pd\n",
    "\n",
    "df = pd.DataFrame({'A': [1, 2, 3, 4], 'B': [5, 6, 7, 8]}, index=[0, 1, 2, 3])\n",
    "reindex = [3, 0, 1, 2]\n",
    "new_df = df.reindex(reindex)\n",
    "\n",
    "print(new_df)\n",
    "print(new_df.loc[2])\n",
    "print(new_df.iloc[2])\n"
   ]
  },
  {
   "cell_type": "code",
   "execution_count": null,
   "id": "df87a22e-4298-4fe7-986e-7e9a4a49ac6f",
   "metadata": {
    "tags": []
   },
   "outputs": [],
   "source": [
    "#ans:4\n",
    "import pandas as pd\n",
    "import numpy as np\n",
    "\n",
    "# Set up the DataFrame\n",
    "columns = ['column_1', 'column_2', 'column_3', 'column_4', 'column_5', 'column_6']\n",
    "indices = [1,2,3,4,5,6]\n",
    "df1 = pd.DataFrame(np.random.rand(6,6), columns = columns, index = indices)\n",
    "print(df1)\n",
    "\n",
    "# Calculate the mean of each column\n",
    "column_means = df1.mean()\n",
    "print(\"\\nMean of each column:\\n\", column_means)\n",
    "\n",
    "# Calculate the standard deviation of column 2\n",
    "column_2_std = df1['column_2'].std()\n",
    "print(\"\\nStandard deviation of column 2:\\n\", column_2_std)\n"
   ]
  },
  {
   "cell_type": "code",
   "execution_count": null,
   "id": "e6906294-4885-4b7a-942c-4456b005b7ea",
   "metadata": {},
   "outputs": [],
   "source": [
    "#ans:5\n",
    "We cannot replace the numerical data in a column with a string variable. This will raise a \"TypeError\" since pandas expects the data in a column to have the same data type. Therefore, if we try to calculate the mean of column_2 after replacing the data in the second row with a string variable, we will get an error.\n",
    "\n"
   ]
  },
  {
   "cell_type": "code",
   "execution_count": null,
   "id": "0c0fd526-c03d-436e-8090-6f6ed83d5f87",
   "metadata": {},
   "outputs": [],
   "source": [
    "#ans:6\n",
    "In Pandas, a window function is a way to perform calculations on a rolling window of data points in a DataFrame. It's a way to analyze data over a fixed period, such as a moving average, rolling sum, or rolling standard deviation.\n",
    "\n",
    "The window function in Pandas is implemented using the .rolling() method. This method generates a rolling object that enables us to perform various window operations on the data.\n"
   ]
  },
  {
   "cell_type": "code",
   "execution_count": null,
   "id": "875a48dd-698e-46a9-add0-891739f3ad3f",
   "metadata": {},
   "outputs": [],
   "source": []
  }
 ],
 "metadata": {
  "kernelspec": {
   "display_name": "Python 3 (ipykernel)",
   "language": "python",
   "name": "python3"
  },
  "language_info": {
   "codemirror_mode": {
    "name": "ipython",
    "version": 3
   },
   "file_extension": ".py",
   "mimetype": "text/x-python",
   "name": "python",
   "nbconvert_exporter": "python",
   "pygments_lexer": "ipython3",
   "version": "3.10.8"
  }
 },
 "nbformat": 4,
 "nbformat_minor": 5
}
